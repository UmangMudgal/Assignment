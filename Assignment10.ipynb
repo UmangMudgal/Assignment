{
 "cells": [
  {
   "cell_type": "code",
   "execution_count": 2,
   "id": "e452c4e6-1d14-4ee1-93a1-4ccbfb237d34",
   "metadata": {},
   "outputs": [],
   "source": [
    "# Question 1\n",
    "# Given an integer `n`, return `true` if it is a power of three. Otherwise, return `false`.\n",
    "# An integer `n` is a power of three, if there exists an integer `x` such that `n == 3x`.\n",
    "\n",
    "def is_power_of_three(n):\n",
    "    if n <= 0:\n",
    "        return False\n",
    "    \n",
    "    while n % 3 == 0:\n",
    "        n //= 3\n",
    "    \n",
    "    return n == 1\n"
   ]
  },
  {
   "cell_type": "code",
   "execution_count": 3,
   "id": "186a2206-3425-4e86-913b-44d1f486c879",
   "metadata": {},
   "outputs": [],
   "source": [
    "# Question 2\n",
    "# You have a list `arr` of all integers in the range `[1, n]` sorted in a strictly increasing order. \n",
    "# Apply the following algorithm on `arr`:\n",
    "# -Starting from left to right, remove the first number and every other number afterward until you reach the end of the list.\n",
    "# -Repeat the previous step again, but this time from right to left, remove the rightmost number and \n",
    "# every other number from the remaining numbers.\n",
    "# - Keep repeating the steps again, alternating left to right and right to left, until a single number remains.\n",
    "# Given the integer `n`, return the last number that remains in `arr`\n",
    "\n",
    "def lastRemaining(self,n):\n",
    "        if n%2: \n",
    "            n = n-1\n",
    "        if not n: \n",
    "            return 1\n",
    "        else:\n",
    "            return n - 2*(self.lastRemaining(n//2)-1)"
   ]
  },
  {
   "cell_type": "code",
   "execution_count": 4,
   "id": "e2b45cd6-2142-4b00-ab92-37b20a28b17a",
   "metadata": {},
   "outputs": [],
   "source": [
    "# Question 3\n",
    "# Given a set represented as a string, write a recursive code to print all subsets of it. \n",
    "# The subsets can be printed in any order.\n",
    "\n",
    "def print_subsets(string, subset=\"\"):\n",
    "    if len(string) == 0:\n",
    "        print(subset)\n",
    "        return\n",
    "    \n",
    "    print_subsets(string[1:], subset)\n",
    "    \n",
    "    print_subsets(string[1:], subset + string[0])\n"
   ]
  },
  {
   "cell_type": "code",
   "execution_count": 5,
   "id": "751aee86-b535-407f-b0a8-2c9a547e1622",
   "metadata": {},
   "outputs": [],
   "source": [
    "# Question 4\n",
    "# Given a string calculate length of the string using recursion.\n",
    "\n",
    "def calculate_length(string):\n",
    "    if string == \"\":\n",
    "        return 0\n",
    "    else:\n",
    "        return 1 + calculate_length(string[1:])\n"
   ]
  },
  {
   "cell_type": "code",
   "execution_count": 6,
   "id": "052893da-4af1-4063-9d9b-e21fbcb1a12f",
   "metadata": {},
   "outputs": [],
   "source": [
    "# Question 5\n",
    "# We are given a string S, we need to find count of all contiguous substrings starting and ending with same character.\n",
    "\n",
    "def count_contiguous_substrings(S):\n",
    "    count = 0\n",
    "\n",
    "    for i in range(len(S)):\n",
    "        count += 1\n",
    "        for j in range(i + 2, len(S)):\n",
    "            if S[j] == S[i]:\n",
    "                count += 1\n",
    "\n",
    "    return count\n"
   ]
  },
  {
   "cell_type": "code",
   "execution_count": 7,
   "id": "6724859a-b1f0-47c7-b0db-fea3ed3656d8",
   "metadata": {},
   "outputs": [],
   "source": [
    "# Question 6\n",
    "# The tower of Hanoi is a famous puzzle where we have three rods and N disks. The objective of the puzzle is to move \n",
    "# the entire stack to another rod. You are given the number of discs N. Initially, these discs are in the rod 1. \n",
    "# You need to print all the steps of discs movement so that all the discs reach the 3rd rod. \n",
    "# Also, you need to find the total moves.Note: The discs are arranged such that the top disc is numbered 1 and the \n",
    "# bottom-most disc is numbered N. Also, all the discs have different sizes and a bigger disc cannot be put on the \n",
    "# top of a smaller disc. Refer the provided link to get a better clarity about the puzzle.\n",
    "\n",
    "def tower_of_hanoi(n, source, destination, auxiliary):\n",
    "    if n == 1:\n",
    "        print(f\"Move disk 1 from rod {source} to rod {destination}\")\n",
    "        return 1\n",
    "    else:\n",
    "        moves = 0\n",
    "        moves += tower_of_hanoi(n - 1, source, auxiliary, destination)\n",
    "        print(f\"Move disk {n} from rod {source} to rod {destination}\")\n",
    "        moves += 1\n",
    "        moves += tower_of_hanoi(n - 1, auxiliary, destination, source)\n",
    "        return moves"
   ]
  },
  {
   "cell_type": "code",
   "execution_count": 8,
   "id": "bf2eac02-dc7c-4f9a-8c5f-dc4434fa5fd0",
   "metadata": {},
   "outputs": [],
   "source": [
    "# Question 7\n",
    "# Given a string str, the task is to print all the permutations of str. A permutation is an arrangement of all or part \n",
    "# of a set of objects, with regard to the order of the arrangement. For instance, the words ‘bat’ and ‘tab’ represents \n",
    "# two distinct permutation (or arrangements) of a similar three letter word.\n",
    "\n",
    "def permute(s, left, right):\n",
    "    if left == right:\n",
    "        print(''.join(s))\n",
    "    else:\n",
    "        for i in range(left, right + 1):\n",
    "            s[left], s[i] = s[i], s[left]  # Swap characters\n",
    "            permute(s, left + 1, right)   # Recursion\n",
    "            s[left], s[i] = s[i], s[left]  # Backtrack, undo the swap\n",
    "\n",
    "def print_permutations(string):\n",
    "    n = len(string)\n",
    "    s = list(string)\n",
    "    permute(s, 0, n - 1)"
   ]
  },
  {
   "cell_type": "code",
   "execution_count": 9,
   "id": "ded46cc6-c3f9-4dde-bdc4-9a3503bc4c41",
   "metadata": {},
   "outputs": [],
   "source": [
    "# Question 8\n",
    "# Given a string, count total number of consonants in it. A consonant is an English alphabet character that is not vowel \n",
    "# (a, e, i, o and u). Examples of constants are b, c, d, f, and g.\n",
    "\n",
    "def count_consonants(string):\n",
    "    consonants = 'bcdfghjklmnpqrstvwxyzBCDFGHJKLMNPQRSTVWXYZ'\n",
    "    count = 0\n",
    "    for char in string:\n",
    "        if char in consonants:\n",
    "            count += 1\n",
    "    return count\n"
   ]
  },
  {
   "cell_type": "code",
   "execution_count": null,
   "id": "f4e83e88-167e-4877-8640-fd5b544f1034",
   "metadata": {},
   "outputs": [],
   "source": []
  }
 ],
 "metadata": {
  "kernelspec": {
   "display_name": "Python 3 (ipykernel)",
   "language": "python",
   "name": "python3"
  },
  "language_info": {
   "codemirror_mode": {
    "name": "ipython",
    "version": 3
   },
   "file_extension": ".py",
   "mimetype": "text/x-python",
   "name": "python",
   "nbconvert_exporter": "python",
   "pygments_lexer": "ipython3",
   "version": "3.10.6"
  }
 },
 "nbformat": 4,
 "nbformat_minor": 5
}
