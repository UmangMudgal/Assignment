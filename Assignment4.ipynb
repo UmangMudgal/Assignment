{
 "cells": [
  {
   "cell_type": "code",
   "execution_count": 1,
   "metadata": {},
   "outputs": [],
   "source": [
    "# Question 1\n",
    "# Given three integer arrays arr1, arr2 and arr3 sorted in strictly increasing order, \n",
    "# return a sorted array of only the integers that appeared in all three arrays.\n",
    "\n",
    "def find_common_elements(arr1, arr2, arr3):\n",
    "    i = j = k = 0\n",
    "    result = []\n",
    "\n",
    "    while i < len(arr1) and j < len(arr2) and k < len(arr3):\n",
    "        if arr1[i] == arr2[j] == arr3[k]:\n",
    "            result.append(arr1[i])\n",
    "            i += 1\n",
    "            j += 1\n",
    "            k += 1\n",
    "        elif arr1[i] < arr2[j]:\n",
    "            i += 1\n",
    "        elif arr2[j] < arr3[k]:\n",
    "            j += 1\n",
    "        else:\n",
    "            k += 1\n",
    "\n",
    "    return result"
   ]
  },
  {
   "cell_type": "code",
   "execution_count": 2,
   "metadata": {},
   "outputs": [],
   "source": [
    "# Question 2\n",
    "\n",
    "# Given two 0-indexed integer arrays nums1 and nums2, return a list answer of size 2 where:\n",
    "\n",
    "# - answer[0] is a list of all distinct integers in nums1 which are not present in nums2.\n",
    "# - answer[1] is a list of all distinct integers in nums2 which are not present in nums1.\n",
    "\n",
    "# Note that the integers in the lists may be returned in any order.\n",
    "\n",
    "def findDifferentNumbers(nums1, nums2):\n",
    "    set1 = set(nums1)\n",
    "    set2 = set(nums2)\n",
    "\n",
    "    answer1 = list(set1 - set2)\n",
    "    answer2 = list(set2 - set1)\n",
    "\n",
    "    return [answer1, answer2]"
   ]
  },
  {
   "cell_type": "code",
   "execution_count": 3,
   "metadata": {},
   "outputs": [],
   "source": [
    "# Question 3\n",
    "# Given a 2D integer array matrix, return the transpose of matrix.\n",
    "# The transpose of a matrix is the matrix flipped over its main diagonal, switching the matrix's row and column indices.\n",
    "\n",
    "def transpose(matrix):\n",
    "    rows = len(matrix)\n",
    "    columns = len(matrix[0])\n",
    "\n",
    "    transpose_matrix = [[0] * rows for _ in range(columns)]\n",
    "\n",
    "    for i in range(rows):\n",
    "        for j in range(columns):\n",
    "            transpose_matrix[j][i] = matrix[i][j]\n",
    "\n",
    "    return transpose_matrix"
   ]
  },
  {
   "cell_type": "code",
   "execution_count": 4,
   "metadata": {},
   "outputs": [],
   "source": [
    "# Question 4\n",
    "# Given an integer array nums of 2n integers, group these integers into n pairs (a1, b1), (a2, b2), ..., (an, bn) \n",
    "# such that the sum of min(ai, bi) for all i is maximized. Return the maximized sum.\n",
    "\n",
    "def arrayPairSum(nums):\n",
    "    nums.sort()\n",
    "    n = len(nums)\n",
    "    sum = 0\n",
    "\n",
    "    for i in range(0, n, 2):\n",
    "        sum += nums[i]\n",
    "\n",
    "    return sum"
   ]
  },
  {
   "cell_type": "code",
   "execution_count": 5,
   "metadata": {},
   "outputs": [],
   "source": [
    "# Question 5\n",
    "# You have n coins and you want to build a staircase with these coins. The staircase consists of k rows \n",
    "# where the ith row has exactly i coins. The last row of the staircase may be incomplete. \n",
    "# Given the integer n, return the number of complete rows of the staircase you will build.\n",
    "\n",
    "def complete_rows(n):\n",
    "    left, right = 0, n\n",
    "\n",
    "    while left <= right:\n",
    "        midpoint = left + (right - left) // 2\n",
    "        total_coins = (midpoint * (midpoint + 1)) // 2\n",
    "\n",
    "        if total_coins <= n:\n",
    "            left = midpoint + 1\n",
    "        else:\n",
    "            right = midpoint - 1\n",
    "\n",
    "    return right"
   ]
  },
  {
   "cell_type": "code",
   "execution_count": 6,
   "metadata": {},
   "outputs": [],
   "source": [
    "# Question 6\n",
    "# Given an integer array nums sorted in non-decreasing order, return an array of the squares of each number \n",
    "# sorted in non-decreasing order.\n",
    "\n",
    "def sortedSquares(nums):\n",
    "    result = []\n",
    "\n",
    "    for num in nums:\n",
    "        square = num * num\n",
    "        result.append(square)\n",
    "\n",
    "    result.sort()\n",
    "    return result"
   ]
  },
  {
   "cell_type": "code",
   "execution_count": 7,
   "metadata": {},
   "outputs": [],
   "source": [
    "# Question 7\n",
    "# You are given an m x n matrix M initialized with all 0's and an array of operations ops, where ops[i] = [ai, bi]  \n",
    "# means M[x][y] should be incremented by one for all 0 <= x < ai and 0 <= y < bi.\n",
    "# Count and return the number of maximum integers in the matrix after performing all the operations\n",
    "\n",
    "def maxCount(m: int, n: int, ops: [[int]]) -> int:\n",
    "    if not ops:\n",
    "        return m * n\n",
    "\n",
    "    min_x = min(op[0] for op in ops)\n",
    "    min_y = min(op[1] for op in ops)\n",
    "\n",
    "    return min_x * min_y"
   ]
  },
  {
   "cell_type": "code",
   "execution_count": 8,
   "metadata": {},
   "outputs": [],
   "source": [
    "# Question 8\n",
    "# Given the array nums consisting of 2n elements in the form [x1,x2,...,xn,y1,y2,...,yn].\n",
    "# Return the array in the form [x1,y1,x2,y2,...,xn,yn].\n",
    "\n",
    "def rearrange_array(nums):\n",
    "    n = len(nums) // 2\n",
    "    result = []\n",
    "    for i in range(n):\n",
    "        result.append(nums[i])\n",
    "        result.append(nums[i + n])\n",
    "    return result"
   ]
  },
  {
   "cell_type": "code",
   "execution_count": null,
   "metadata": {},
   "outputs": [],
   "source": []
  }
 ],
 "metadata": {
  "kernelspec": {
   "display_name": "Python 3",
   "language": "python",
   "name": "python3"
  },
  "language_info": {
   "codemirror_mode": {
    "name": "ipython",
    "version": 3
   },
   "file_extension": ".py",
   "mimetype": "text/x-python",
   "name": "python",
   "nbconvert_exporter": "python",
   "pygments_lexer": "ipython3",
   "version": "3.8.16"
  },
  "orig_nbformat": 4
 },
 "nbformat": 4,
 "nbformat_minor": 2
}
