{
 "cells": [
  {
   "cell_type": "code",
   "execution_count": 1,
   "id": "6088e64d-8b8e-4e8f-80d1-e6884649f4b0",
   "metadata": {},
   "outputs": [],
   "source": [
    "# Question 1\n",
    "# Given an integer `n`, return `true` if it is a power of two. Otherwise, return `false`.\n",
    "# An integer `n` is a power of two, if there exists an integer `x` such that `n == 2x`\n",
    "\n",
    "def is_power_of_two(n):\n",
    "    if n <= 0:\n",
    "        return False\n",
    "    return (n & (n - 1)) == 0"
   ]
  },
  {
   "cell_type": "code",
   "execution_count": 2,
   "id": "4e00c651-811e-4504-a6c9-eb4920188b09",
   "metadata": {},
   "outputs": [],
   "source": [
    "# Question 2\n",
    "# Given a number n, find the sum of the first natural numbers.\n",
    "\n",
    "def sum_of_natural_numbers(n):\n",
    "    sum = 0\n",
    "    for I in range(1, n+1):\n",
    "        sum += i\n",
    "    return sum"
   ]
  },
  {
   "cell_type": "code",
   "execution_count": 3,
   "id": "d9323605-4b40-408a-ad76-8a5334f9486a",
   "metadata": {},
   "outputs": [],
   "source": [
    "# Question 3\n",
    "# Given a positive integer, N. Find the factorial of N. \n",
    "\n",
    "def factorial(n):\n",
    "    if n == 0:\n",
    "        return 1\n",
    "    else:\n",
    "        return n * factorial(n - 1)"
   ]
  },
  {
   "cell_type": "code",
   "execution_count": 4,
   "id": "f1ba3e45-f4cc-49f6-b4db-3fe313507ba3",
   "metadata": {},
   "outputs": [],
   "source": [
    "# Question 4\n",
    "# Given a number N and a power P, the task is to find the exponent of this number raised to the given power, i.e. N^P.\n",
    "\n",
    "import math\n",
    "\n",
    "def find_exponent(N, P):\n",
    "    exponent = P * math.log(N)\n",
    "    return exponent"
   ]
  },
  {
   "cell_type": "code",
   "execution_count": 5,
   "id": "6a684bad-f33f-4c9f-8b2a-63b5cb780da9",
   "metadata": {},
   "outputs": [],
   "source": [
    "# Question 5\n",
    "# Given an array of integers arr, the task is to find maximum element of that array using recursion.\n",
    "\n",
    "def findMax(arr, start, end):\n",
    "    if start == end:\n",
    "        return arr[start]\n",
    "    mid = (start + end) // 2\n",
    "    left_max = findMax(arr, start, mid)\n",
    "    right_max = findMax(arr, mid + 1, end)\n",
    "    return max(left_max, right_max)"
   ]
  },
  {
   "cell_type": "code",
   "execution_count": 6,
   "id": "8ca8062e-a8f6-4604-b054-1e70e87290f6",
   "metadata": {},
   "outputs": [],
   "source": [
    "# Question 6\n",
    "# Given first term (a), common difference (d) and a integer N of the Arithmetic Progression series, \n",
    "# the task is to find Nth term of the series.\n",
    "\n",
    "def nth_term_of_ap(a, d, N):\n",
    "    Nth_term = a + (N - 1) * d\n",
    "    return Nth_term"
   ]
  },
  {
   "cell_type": "code",
   "execution_count": 7,
   "id": "9d09bd77-6f82-4371-a38d-250a351d4ac8",
   "metadata": {},
   "outputs": [],
   "source": [
    "# Question 7\n",
    "# Given a string S, the task is to write a program to print all permutations of a given string.\n",
    "\n",
    "def permute(string, l, r):\n",
    "    if l == r:\n",
    "        print(''.join(string))\n",
    "    else:\n",
    "        for i in range(l, r + 1):\n",
    "            string[l], string[i] = string[i], string[l]\n",
    "            permute(string, l + 1, r)\n",
    "            string[l], string[i] = string[i], string[l] \n",
    "def print_permutations(string):\n",
    "    n = len(string)\n",
    "    if n == 0:\n",
    "        print(\"String is empty.\")\n",
    "    else:\n",
    "        string = list(string)\n",
    "    permute(string, 0, n - 1)"
   ]
  },
  {
   "cell_type": "code",
   "execution_count": 8,
   "id": "41becbaa-b626-4c23-ae85-25fb94b69d86",
   "metadata": {},
   "outputs": [],
   "source": [
    "# Question 8\n",
    "# Given an array, find a product of all array elements.\n",
    "\n",
    "def find_product(arr):\n",
    "    product = 1\n",
    "    for num in arr:\n",
    "        product *= num\n",
    "    return product"
   ]
  }
 ],
 "metadata": {
  "kernelspec": {
   "display_name": "Python 3 (ipykernel)",
   "language": "python",
   "name": "python3"
  },
  "language_info": {
   "codemirror_mode": {
    "name": "ipython",
    "version": 3
   },
   "file_extension": ".py",
   "mimetype": "text/x-python",
   "name": "python",
   "nbconvert_exporter": "python",
   "pygments_lexer": "ipython3",
   "version": "3.10.6"
  }
 },
 "nbformat": 4,
 "nbformat_minor": 5
}
